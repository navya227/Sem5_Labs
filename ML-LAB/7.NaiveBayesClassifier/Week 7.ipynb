{
 "cells": [
  {
   "cell_type": "code",
   "execution_count": 2,
   "id": "e14df8aa",
   "metadata": {},
   "outputs": [],
   "source": [
    "import numpy as np\n",
    "import pandas as pd\n",
    "import matplotlib.pyplot as plt"
   ]
  },
  {
   "cell_type": "markdown",
   "id": "55e3b027",
   "metadata": {},
   "source": [
    "# Q1"
   ]
  },
  {
   "cell_type": "code",
   "execution_count": 3,
   "id": "50781904",
   "metadata": {},
   "outputs": [
    {
     "data": {
      "text/plain": [
       "0.6923076923076923"
      ]
     },
     "execution_count": 3,
     "metadata": {},
     "output_type": "execute_result"
    }
   ],
   "source": [
    "h = 0.60\n",
    "ds = 0.40\n",
    "A_host = 0.30\n",
    "A_ds = 0.20\n",
    "\n",
    "\n",
    "A = (A_host * h) + (A_ds * ds)\n",
    "\n",
    "host_A = (A_host * h) / A\n",
    "\n",
    "host_A"
   ]
  },
  {
   "cell_type": "code",
   "execution_count": 4,
   "id": "2ed40767",
   "metadata": {},
   "outputs": [
    {
     "data": {
      "text/plain": [
       "0.3333333333333333"
      ]
     },
     "execution_count": 4,
     "metadata": {},
     "output_type": "execute_result"
    }
   ],
   "source": [
    "dis = 0.01\n",
    "sens = 0.99\n",
    "FPR = 0.02\n",
    "no_dis = 1 - dis\n",
    "\n",
    "pt = (sens * dis) + (FPR * no_dis)\n",
    "\n",
    "d_pt = (sens * dis) / pt\n",
    "\n",
    "d_pt\n"
   ]
  },
  {
   "cell_type": "markdown",
   "id": "e6925ad3",
   "metadata": {},
   "source": [
    "# Q2"
   ]
  },
  {
   "cell_type": "code",
   "execution_count": 18,
   "id": "50119fad",
   "metadata": {},
   "outputs": [
    {
     "name": "stdout",
     "output_type": "stream",
     "text": [
      "0.006857142857142858\n",
      "0.02821869488536155\n",
      "Prediction for the test data: yes\n"
     ]
    }
   ],
   "source": [
    "class NaiveBayesClassifier:\n",
    "    def __init__(self):\n",
    "        self.class_probs = {}\n",
    "        self.feature_probs = {}\n",
    "        self.classes = None\n",
    "\n",
    "    def fit(self, X, y):\n",
    "        self.classes = y.unique()\n",
    "        self.class_probs = y.value_counts(normalize=True).to_dict()\n",
    "\n",
    "        self.feature_probs = {}\n",
    "        for feature in X.columns:\n",
    "            self.feature_probs[feature] = {}\n",
    "            for cls in self.classes:\n",
    "                subset = X[y == cls]\n",
    "                feature_prob = subset.groupby(feature).size() / subset.shape[0]\n",
    "                self.feature_probs[feature][cls] = feature_prob.to_dict()\n",
    "\n",
    "    def predict(self, X):\n",
    "        predictions = []\n",
    "        for _, row in X.iterrows():\n",
    "            class_probs = {}\n",
    "            for cls in self.classes:\n",
    "                prob = self.class_probs[cls]\n",
    "                for feature in X.columns:\n",
    "                    value = row[feature]\n",
    "                    feature_prob = self.feature_probs.get(feature, {}).get(cls, {}).get(value, 0)\n",
    "                    prob *= feature_prob\n",
    "                print(prob)\n",
    "                class_probs[cls] = prob\n",
    "            predicted_class = max(class_probs, key=class_probs.get)\n",
    "            predictions.append(predicted_class)\n",
    "        return predictions\n",
    "\n",
    "data = pd.read_csv('Lab7.csv')\n",
    "\n",
    "X = data.drop('buys_com', axis=1)\n",
    "y = data['buys_com']\n",
    "\n",
    "nb_classifier = NaiveBayesClassifier()\n",
    "nb_classifier.fit(X, y)\n",
    "\n",
    "test_data = pd.DataFrame([{\n",
    "    'age': '<=30',\n",
    "    'income': 'medium',\n",
    "    'student': 'yes',\n",
    "    'credit_rating': 'fair'\n",
    "}])\n",
    "\n",
    "predictions = nb_classifier.predict(test_data)\n",
    "print(f'Prediction for the test data: {predictions[0]}')\n"
   ]
  },
  {
   "cell_type": "markdown",
   "id": "e0231b16",
   "metadata": {},
   "source": [
    "# Q3"
   ]
  },
  {
   "cell_type": "code",
   "execution_count": 14,
   "id": "421311f8",
   "metadata": {},
   "outputs": [
    {
     "name": "stdout",
     "output_type": "stream",
     "text": [
      "[0.12, 0.08, 0.04, 0.12]\n",
      "[0.08695652173913043, 0.043478260869565216, 0.08695652173913043, 0.043478260869565216]\n",
      "2.7647999999999993e-05\n",
      "5.7175324559303314e-06\n",
      "Classification : Sports\n"
     ]
    }
   ],
   "source": [
    "df = pd.read_csv(\"Lab7_2.csv\")\n",
    "\n",
    "x = df['text'].values\n",
    "y = df['tag'].values\n",
    "s_word_count = 0\n",
    "ns_word_count = 0\n",
    "\n",
    "for i,j in zip(x,y):\n",
    "    if j=='S':\n",
    "        w = i.split()\n",
    "        s_word_count = s_word_count + len(w)\n",
    "    else:\n",
    "        w = i.split()\n",
    "        ns_word_count = ns_word_count + len(w)\n",
    "\n",
    "tot = 14\n",
    "def find_word_s(word):\n",
    "    count = 0\n",
    "    for i,j in zip(x,y):\n",
    "        w = i.split()\n",
    "        if j=='S' and word in w:\n",
    "            count = count + 1\n",
    "    if count == 0:\n",
    "        return 1/(s_word_count+tot)\n",
    "    else:\n",
    "        return (count+1)/(s_word_count+tot) \n",
    "\n",
    "def find_word_ns(word):\n",
    "    count = 0\n",
    "    for i,j in zip(x,y):\n",
    "        w = i.split()\n",
    "        if j=='NS' and word in w:\n",
    "            count = count + 1\n",
    "    if count == 0:\n",
    "        return 1/(ns_word_count+tot)\n",
    "    else:\n",
    "        return (count+1)/(ns_word_count+tot) \n",
    "    \n",
    "\n",
    "stri = 'a very close game'\n",
    "sent = stri.split()\n",
    "\n",
    "p_word_s = [find_word_s(i) for i in sent]\n",
    "print(p_word_s)\n",
    "p_word_ns = [find_word_ns(i) for i in sent]\n",
    "print(p_word_ns)\n",
    "\n",
    "s_count = 0\n",
    "ns_count = 0\n",
    "for i in y:\n",
    "    if i=='S':\n",
    "        s_count = s_count + 1\n",
    "    else:\n",
    "        ns_count = ns_count + 1\n",
    "p_s = s_count/len(y)\n",
    "p_ns = ns_count/len(y)\n",
    "\n",
    "p_text_s = 1\n",
    "for i in p_word_s:\n",
    "    p_text_s = p_text_s * i\n",
    "    \n",
    "p_s_text = p_text_s*p_s\n",
    "print(p_s_text)\n",
    "\n",
    "p_text_ns = 1\n",
    "for i in p_word_ns:\n",
    "    p_text_ns = p_text_ns * i\n",
    "    \n",
    "p_ns_text = p_text_ns*p_ns\n",
    "print(p_ns_text)\n",
    "\n",
    "if(p_s_text >= p_ns_text):\n",
    "    print(\"Classification : Sports\")\n",
    "else:\n",
    "    print(\"Classification : Not Sports\")\n",
    "\n"
   ]
  },
  {
   "cell_type": "code",
   "execution_count": null,
   "id": "815552be",
   "metadata": {},
   "outputs": [],
   "source": []
  },
  {
   "cell_type": "code",
   "execution_count": null,
   "id": "8996f5e0",
   "metadata": {},
   "outputs": [],
   "source": []
  }
 ],
 "metadata": {
  "kernelspec": {
   "display_name": "Python 3 (ipykernel)",
   "language": "python",
   "name": "python3"
  },
  "language_info": {
   "codemirror_mode": {
    "name": "ipython",
    "version": 3
   },
   "file_extension": ".py",
   "mimetype": "text/x-python",
   "name": "python",
   "nbconvert_exporter": "python",
   "pygments_lexer": "ipython3",
   "version": "3.12.3"
  }
 },
 "nbformat": 4,
 "nbformat_minor": 5
}
