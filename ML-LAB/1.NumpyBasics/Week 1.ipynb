{
 "cells": [
  {
   "cell_type": "code",
   "execution_count": 1,
   "id": "86f97d0f",
   "metadata": {},
   "outputs": [],
   "source": [
    "import numpy as np"
   ]
  },
  {
   "cell_type": "markdown",
   "id": "4b1b0575",
   "metadata": {},
   "source": [
    "# Convert a 1-D array into a 2-D array with 3 rows."
   ]
  },
  {
   "cell_type": "code",
   "execution_count": 2,
   "id": "64df2f6c",
   "metadata": {},
   "outputs": [
    {
     "data": {
      "text/plain": [
       "array([[0, 1, 2],\n",
       "       [3, 4, 5],\n",
       "       [6, 7, 8]])"
      ]
     },
     "execution_count": 2,
     "metadata": {},
     "output_type": "execute_result"
    }
   ],
   "source": [
    "arr1 = np.array([0,1,2,3,4,5,6,7,8])\n",
    "arr1.reshape(3,3)"
   ]
  },
  {
   "cell_type": "markdown",
   "id": "f04bb4ae",
   "metadata": {},
   "source": [
    "# Replace all odd numbers in the given array with -1"
   ]
  },
  {
   "cell_type": "code",
   "execution_count": 3,
   "id": "92b28df5",
   "metadata": {},
   "outputs": [
    {
     "name": "stdout",
     "output_type": "stream",
     "text": [
      "[ 0 -1  2 -1  4 -1  6 -1  8]\n"
     ]
    }
   ],
   "source": [
    "arr2 = np.array([0,1,2,3,4,5,6,7,8])\n",
    "\n",
    "odd = np.where(arr2 % 2!=0)\n",
    "\n",
    "arr2[odd]=-1\n",
    "\n",
    "print(arr2)"
   ]
  },
  {
   "cell_type": "markdown",
   "id": "73b782d5",
   "metadata": {},
   "source": [
    "# Find the positions of elements in x where its value is more than its corresponding element in y, and elements in x where its value is equals to its corresponding element in y."
   ]
  },
  {
   "cell_type": "code",
   "execution_count": 4,
   "id": "07fa63c6",
   "metadata": {},
   "outputs": [
    {
     "name": "stdout",
     "output_type": "stream",
     "text": [
      "[1 2 4 5 6 7 8 9]\n",
      "[0]\n"
     ]
    }
   ],
   "source": [
    "x = np.array([21, 64, 86, 22, 74, 55, 81, 79, 90, 89]) \n",
    "y = np.array([21, 7, 3, 45, 10, 29, 55, 4, 37, 18])\n",
    "\n",
    "X = np.where(x>y)[0]\n",
    "Y = np.where(x==y)[0]\n",
    "\n",
    "print(X)\n",
    "print(Y)"
   ]
  },
  {
   "cell_type": "markdown",
   "id": "d86c384a",
   "metadata": {},
   "source": [
    "# Extract the first four columns of this 2-D array."
   ]
  },
  {
   "cell_type": "code",
   "execution_count": 5,
   "id": "a9a7ae52",
   "metadata": {},
   "outputs": [
    {
     "name": "stdout",
     "output_type": "stream",
     "text": [
      "[[ 0  1  2  3]\n",
      " [20 21 22 23]\n",
      " [40 41 42 43]\n",
      " [60 61 62 63]\n",
      " [80 81 82 83]]\n"
     ]
    }
   ],
   "source": [
    "arr4 = np.arange(100).reshape(5,-1)\n",
    "col = arr4[:,:4]\n",
    "print(col)"
   ]
  },
  {
   "cell_type": "markdown",
   "id": "d62b0368",
   "metadata": {},
   "source": [
    "# Generate a 1-D array of 10 random integers. Each integer should be a number between 30 and 40 (inclusive)"
   ]
  },
  {
   "cell_type": "code",
   "execution_count": 6,
   "id": "f0ef888f",
   "metadata": {},
   "outputs": [
    {
     "name": "stdout",
     "output_type": "stream",
     "text": [
      "[31 37 40 35 33 30 36 38 38 36]\n"
     ]
    }
   ],
   "source": [
    "random = np.random.randint(30,41,size=10)\n",
    "print(random)"
   ]
  },
  {
   "cell_type": "code",
   "execution_count": 7,
   "id": "3713860c",
   "metadata": {},
   "outputs": [
    {
     "name": "stdout",
     "output_type": "stream",
     "text": [
      "[[ 8 10 13]\n",
      " [ 8 10 12]\n",
      " [ 8 10 13]]\n",
      "[[-6 -6 -7]\n",
      " [ 0  0  0]\n",
      " [ 6  6  7]]\n",
      "\n",
      "46\n",
      "[12 15 19]\n",
      "[31 30 31]\n",
      "\n",
      "[[ 18  24  31]\n",
      " [ 54  69  88]\n",
      " [ 91 116 148]]\n",
      "\n",
      "[ 8  8  8 10 10 10 12 13 13]\n",
      "\n",
      "[[-6  0  6]\n",
      " [-6  0  6]\n",
      " [-7  0  7]]\n"
     ]
    }
   ],
   "source": [
    "A = np.array([[1, 2, 3],\n",
    "              [4, 5, 6],\n",
    "              [7, 8, 10]])\n",
    "\n",
    "B = np.array([[7, 8, 10],\n",
    "              [4, 5, 6],\n",
    "              [1, 2, 3]])\n",
    "\n",
    "C = A+B\n",
    "E = A-B\n",
    "print(C)\n",
    "\n",
    "print(E)\n",
    "print()\n",
    "\n",
    "a = np.sum(A)\n",
    "b = np.sum(B, axis = 0)\n",
    "c = np.sum(C, axis = 1)\n",
    "print(a)\n",
    "print(b)\n",
    "print(c)\n",
    "print()\n",
    "\n",
    "D = np.dot(A,B)\n",
    "print(D)\n",
    "print()\n",
    "\n",
    "F = np.sort(C,axis=None) \n",
    "print(F)\n",
    "print()\n",
    "\n",
    "G = np.transpose(E)\n",
    "print(G)"
   ]
  }
 ],
 "metadata": {
  "kernelspec": {
   "display_name": "Python 3 (ipykernel)",
   "language": "python",
   "name": "python3"
  },
  "language_info": {
   "codemirror_mode": {
    "name": "ipython",
    "version": 3
   },
   "file_extension": ".py",
   "mimetype": "text/x-python",
   "name": "python",
   "nbconvert_exporter": "python",
   "pygments_lexer": "ipython3",
   "version": "3.12.3"
  }
 },
 "nbformat": 4,
 "nbformat_minor": 5
}
