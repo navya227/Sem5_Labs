{
 "cells": [
  {
   "cell_type": "code",
   "execution_count": 1,
   "id": "ee1cd5d7-7c72-4244-af2c-f1f4e9e740d4",
   "metadata": {},
   "outputs": [],
   "source": [
    "from pyspark.sql import SparkSession"
   ]
  },
  {
   "cell_type": "code",
   "execution_count": 2,
   "id": "aa683155-4bae-4bb8-8d6d-2166014f304d",
   "metadata": {},
   "outputs": [
    {
     "name": "stderr",
     "output_type": "stream",
     "text": [
      "Setting default log level to \"WARN\".\n",
      "To adjust logging level use sc.setLogLevel(newLevel). For SparkR, use setLogLevel(newLevel).\n",
      "24/07/29 09:12:33 WARN NativeCodeLoader: Unable to load native-hadoop library for your platform... using builtin-java classes where applicable\n"
     ]
    }
   ],
   "source": [
    "spark = SparkSession.builder \\\n",
    "    .appName(\"SquareIntegers\") \\\n",
    "    .getOrCreate()\n",
    "\n",
    "sc = spark.sparkContext\n",
    "\n",
    "integers = [1, 2, 3, 4, 5]\n",
    "\n",
    "rdd = sc.parallelize(integers)"
   ]
  },
  {
   "cell_type": "code",
   "execution_count": 3,
   "id": "d6175302-b691-4f98-8ad3-00eb57313c8a",
   "metadata": {},
   "outputs": [],
   "source": [
    "def square(x):\n",
    "    return x * x"
   ]
  },
  {
   "cell_type": "code",
   "execution_count": 4,
   "id": "7b7528f9-9845-47b3-8083-64cd623e26c8",
   "metadata": {},
   "outputs": [
    {
     "name": "stderr",
     "output_type": "stream",
     "text": [
      "                                                                                \r"
     ]
    },
    {
     "name": "stdout",
     "output_type": "stream",
     "text": [
      "Original integers: [1, 2, 3, 4, 5]\n",
      "Squared integers: [1, 4, 9, 16, 25]\n"
     ]
    }
   ],
   "source": [
    "squared_rdd = rdd.map(square)\n",
    "\n",
    "squared_integers = squared_rdd.collect()\n",
    "\n",
    "print(\"Original integers:\", integers)\n",
    "print(\"Squared integers:\", squared_integers)\n",
    "\n",
    "spark.stop()\n"
   ]
  }
 ],
 "metadata": {
  "kernelspec": {
   "display_name": "Python 3 (ipykernel)",
   "language": "python",
   "name": "python3"
  },
  "language_info": {
   "codemirror_mode": {
    "name": "ipython",
    "version": 3
   },
   "file_extension": ".py",
   "mimetype": "text/x-python",
   "name": "python",
   "nbconvert_exporter": "python",
   "pygments_lexer": "ipython3",
   "version": "3.10.12"
  }
 },
 "nbformat": 4,
 "nbformat_minor": 5
}
