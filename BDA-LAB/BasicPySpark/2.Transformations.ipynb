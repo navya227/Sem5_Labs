{
 "cells": [
  {
   "cell_type": "code",
   "execution_count": 3,
   "id": "f41d446f-1029-4c6f-9503-96bee6784a76",
   "metadata": {},
   "outputs": [
    {
     "name": "stdout",
     "output_type": "stream",
     "text": [
      "+---+-----+---+------+-----------+---------+\n",
      "| id| name|age|salary| department|is_senior|\n",
      "+---+-----+---+------+-----------+---------+\n",
      "|  2|  Bob| 45|4000.0|Engineering|      Yes|\n",
      "|  4|David| 35|3500.0|Engineering|       No|\n",
      "|  5|  Eva| 40|4500.0|         HR|      Yes|\n",
      "+---+-----+---+------+-----------+---------+\n",
      "\n"
     ]
    }
   ],
   "source": [
    "from pyspark.sql import SparkSession\n",
    "from pyspark.sql.functions import col, when\n",
    "\n",
    "spark = SparkSession.builder.getOrCreate()\n",
    "\n",
    "data = [\n",
    "    (1, \"Alice\", 30, 3000.0, \"HR\"),\n",
    "    (2, \"Bob\", 45, 4000.0, \"Engineering\"),\n",
    "    (3, \"Charlie\", 25, 2500.0, \"Marketing\"),\n",
    "    (4, \"David\", 35, 3500.0, \"Engineering\"),\n",
    "    (5, \"Eva\", 40, 4500.0, \"HR\")\n",
    "]\n",
    "\n",
    "columns = [\"id\", \"name\", \"age\", \"salary\", \"department\"]\n",
    "\n",
    "df = spark.createDataFrame(data, schema=columns)\n",
    "\n",
    "filtered_df = df.filter(col(\"age\") > 30)\n",
    "\n",
    "result_df = filtered_df.withColumn(\n",
    "    \"is_senior\",\n",
    "    when(col(\"salary\") > 3500, \"Yes\").otherwise(\"No\")\n",
    ")\n",
    "\n",
    "result_df.show()\n",
    "\n",
    "spark.stop()\n"
   ]
  },
  {
   "cell_type": "code",
   "execution_count": null,
   "id": "1275bdd4-a99d-4484-ade5-091228a0f7b9",
   "metadata": {},
   "outputs": [],
   "source": []
  }
 ],
 "metadata": {
  "kernelspec": {
   "display_name": "Python 3 (ipykernel)",
   "language": "python",
   "name": "python3"
  },
  "language_info": {
   "codemirror_mode": {
    "name": "ipython",
    "version": 3
   },
   "file_extension": ".py",
   "mimetype": "text/x-python",
   "name": "python",
   "nbconvert_exporter": "python",
   "pygments_lexer": "ipython3",
   "version": "3.10.12"
  }
 },
 "nbformat": 4,
 "nbformat_minor": 5
}
