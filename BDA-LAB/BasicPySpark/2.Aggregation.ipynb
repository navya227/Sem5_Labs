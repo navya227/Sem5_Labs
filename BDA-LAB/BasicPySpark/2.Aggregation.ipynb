{
 "cells": [
  {
   "cell_type": "code",
   "execution_count": 4,
   "id": "4e124f81-2eb1-458a-a923-6318c12b33ab",
   "metadata": {},
   "outputs": [
    {
     "name": "stdout",
     "output_type": "stream",
     "text": [
      "DataFrame:\n",
      "+-----+---+\n",
      "| Name|Age|\n",
      "+-----+---+\n",
      "|Alice| 34|\n",
      "|  Bob| 45|\n",
      "|Cathy| 29|\n",
      "|David| 40|\n",
      "+-----+---+\n",
      "\n",
      "Total Age: 148\n",
      "Average Age: 37.0\n"
     ]
    }
   ],
   "source": [
    "from pyspark.sql import SparkSession\n",
    "from pyspark.sql.functions import col, avg, sum\n",
    "\n",
    "spark = SparkSession.builder.getOrCreate()\n",
    "\n",
    "data = [\n",
    "    (\"Alice\", 34),\n",
    "    (\"Bob\", 45),\n",
    "    (\"Cathy\", 29),\n",
    "    (\"David\", 40)\n",
    "]\n",
    "\n",
    "columns = [\"Name\", \"Age\"]\n",
    "\n",
    "df = spark.createDataFrame(data, columns)\n",
    "\n",
    "print(\"DataFrame:\")\n",
    "df.show()\n",
    "\n",
    "total_age = df.agg(sum(col(\"Age\")).alias(\"Total_Age\")).collect()[0][\"Total_Age\"]\n",
    "print(f\"Total Age: {total_age}\")\n",
    "\n",
    "average_age = df.agg(avg(col(\"Age\")).alias(\"Average_Age\")).collect()[0][\"Average_Age\"]\n",
    "print(f\"Average Age: {average_age}\")\n",
    "\n",
    "spark.stop()\n"
   ]
  },
  {
   "cell_type": "code",
   "execution_count": null,
   "id": "5bf5175a-15dc-40e5-b039-5cb74c6fe567",
   "metadata": {},
   "outputs": [],
   "source": []
  }
 ],
 "metadata": {
  "kernelspec": {
   "display_name": "Python 3 (ipykernel)",
   "language": "python",
   "name": "python3"
  },
  "language_info": {
   "codemirror_mode": {
    "name": "ipython",
    "version": 3
   },
   "file_extension": ".py",
   "mimetype": "text/x-python",
   "name": "python",
   "nbconvert_exporter": "python",
   "pygments_lexer": "ipython3",
   "version": "3.10.12"
  }
 },
 "nbformat": 4,
 "nbformat_minor": 5
}
