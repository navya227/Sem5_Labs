{
 "cells": [
  {
   "cell_type": "code",
   "execution_count": 3,
   "id": "37a519c9-dff3-4cca-88e7-d5ba830c5b57",
   "metadata": {},
   "outputs": [
    {
     "name": "stdout",
     "output_type": "stream",
     "text": [
      "+-------+------------------+\n",
      "|summary|             Value|\n",
      "+-------+------------------+\n",
      "|  count|             50985|\n",
      "|   mean| 17475.81197818101|\n",
      "| stddev|167911.27487646628|\n",
      "|    min|                -1|\n",
      "|    max|                 S|\n",
      "+-------+------------------+\n",
      "\n"
     ]
    }
   ],
   "source": [
    "from pyspark.sql import SparkSession\n",
    "\n",
    "spark = SparkSession.builder \\\n",
    "    .appName(\"SummaryStatistics\") \\\n",
    "    .getOrCreate()\n",
    "\n",
    "csv_file_path = \"file.csv\"\n",
    "\n",
    "df = spark.read.csv(csv_file_path, header=True, inferSchema=True)\n",
    "\n",
    "column_name = \"Value\"\n",
    "summary_stats = df.select(column_name).describe()\n",
    "\n",
    "summary_stats.show()\n",
    "\n",
    "spark.stop()\n"
   ]
  },
  {
   "cell_type": "code",
   "execution_count": null,
   "id": "9c18b428-a57f-4bdb-bab5-5a49b4ef3770",
   "metadata": {},
   "outputs": [],
   "source": []
  }
 ],
 "metadata": {
  "kernelspec": {
   "display_name": "Python 3 (ipykernel)",
   "language": "python",
   "name": "python3"
  },
  "language_info": {
   "codemirror_mode": {
    "name": "ipython",
    "version": 3
   },
   "file_extension": ".py",
   "mimetype": "text/x-python",
   "name": "python",
   "nbconvert_exporter": "python",
   "pygments_lexer": "ipython3",
   "version": "3.10.12"
  }
 },
 "nbformat": 4,
 "nbformat_minor": 5
}
