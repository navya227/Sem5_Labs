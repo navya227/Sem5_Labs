{
 "cells": [
  {
   "cell_type": "code",
   "execution_count": 1,
   "id": "a723cffc-ff54-4dbe-84cf-141a41dcf702",
   "metadata": {},
   "outputs": [],
   "source": [
    "from pyspark.sql import SparkSession\n",
    "from pyspark.sql.functions import col, lower, regexp_replace, udf, array\n",
    "from pyspark.sql.types import ArrayType, StringType, FloatType"
   ]
  },
  {
   "cell_type": "code",
   "execution_count": 2,
   "id": "21dd9162-3980-4786-bbff-bd7c179c6d7c",
   "metadata": {},
   "outputs": [
    {
     "name": "stderr",
     "output_type": "stream",
     "text": [
      "Setting default log level to \"WARN\".\n",
      "To adjust logging level use sc.setLogLevel(newLevel). For SparkR, use setLogLevel(newLevel).\n",
      "24/08/12 09:28:54 WARN NativeCodeLoader: Unable to load native-hadoop library for your platform... using builtin-java classes where applicable\n"
     ]
    }
   ],
   "source": [
    "spark = SparkSession.builder \\\n",
    "    .appName(\"Similarity Calculation\") \\\n",
    "    .getOrCreate()"
   ]
  },
  {
   "cell_type": "code",
   "execution_count": 3,
   "id": "b7857089-6d7c-4f9b-b105-2ba5a6466583",
   "metadata": {},
   "outputs": [],
   "source": [
    "data = [\n",
    "    (1, \"John Smith\", \"1234 Elm St, Springfield, IL\"),\n",
    "    (2, \"john smith\", \"1234 elm street, springfield, il\"),\n",
    "    (3, \"Jane Doe\", \"5678 Oak St, Springfield, IL\"),\n",
    "    (4, \"JANE DOE\", \"5678 OAK STREET, SPRINGFIELD, IL\")\n",
    "]"
   ]
  },
  {
   "cell_type": "code",
   "execution_count": 4,
   "id": "f503ae7d-e61d-4f00-bdda-01b646811514",
   "metadata": {},
   "outputs": [],
   "source": [
    "columns = [\"id\", \"name\", \"address\"]\n",
    "df = spark.createDataFrame(data, schema=columns)"
   ]
  },
  {
   "cell_type": "code",
   "execution_count": 5,
   "id": "355d63e7-3a8a-44eb-b04c-597520ec6e51",
   "metadata": {},
   "outputs": [],
   "source": [
    "def preprocess(text_col):\n",
    "    return lower(regexp_replace(text_col, \"[^a-zA-Z0-9\\\\s]\", \"\"))"
   ]
  },
  {
   "cell_type": "code",
   "execution_count": 6,
   "id": "76dd284f-67c4-4aec-beb6-2ffdd61a5fdf",
   "metadata": {},
   "outputs": [],
   "source": [
    "def jaccard_similarity(set1, set2):\n",
    "    set1, set2 = set(set1), set(set2)\n",
    "    intersection_len = len(set1.intersection(set2))\n",
    "    union_len = len(set1.union(set2))\n",
    "    return float(intersection_len) / union_len if union_len != 0 else 0.0"
   ]
  },
  {
   "cell_type": "code",
   "execution_count": 7,
   "id": "4a105454-ce61-48f3-8f3e-8cd632b83b0a",
   "metadata": {},
   "outputs": [],
   "source": [
    "jaccard_udf = udf(jaccard_similarity, FloatType())"
   ]
  },
  {
   "cell_type": "code",
   "execution_count": 8,
   "id": "892c16ba-424e-4f5b-a5bc-87d0125ade56",
   "metadata": {},
   "outputs": [],
   "source": [
    "preprocessed_df = df \\\n",
    "    .withColumn(\"name_tokens\", udf(lambda x: x.split(), ArrayType(StringType()))(preprocess(col(\"name\")))) \\\n",
    "    .withColumn(\"address_tokens\", udf(lambda x: x.split(), ArrayType(StringType()))(preprocess(col(\"address\"))))"
   ]
  },
  {
   "cell_type": "code",
   "execution_count": 9,
   "id": "1c5245af-95c0-415e-bac7-10f73a374f9a",
   "metadata": {},
   "outputs": [],
   "source": [
    "cross_df = preprocessed_df.alias(\"df1\").crossJoin(preprocessed_df.alias(\"df2\"))"
   ]
  },
  {
   "cell_type": "code",
   "execution_count": 10,
   "id": "fd1b151f-9f21-4e99-a5de-b7adb2c10a64",
   "metadata": {},
   "outputs": [],
   "source": [
    "result_df = cross_df \\\n",
    "    .withColumn(\"name_jaccard_similarity\", jaccard_udf(col(\"df1.name_tokens\"), col(\"df2.name_tokens\"))) \\\n",
    "    .withColumn(\"address_jaccard_similarity\", jaccard_udf(col(\"df1.address_tokens\"), col(\"df2.address_tokens\"))) \\\n",
    "    .select(col(\"df1.id\").alias(\"id1\"), col(\"df2.id\").alias(\"id2\"), \n",
    "            \"name_jaccard_similarity\", \"address_jaccard_similarity\")"
   ]
  },
  {
   "cell_type": "code",
   "execution_count": 11,
   "id": "e3c2f5f0-491b-4e44-b6ff-624dcfe09388",
   "metadata": {},
   "outputs": [
    {
     "name": "stderr",
     "output_type": "stream",
     "text": [
      "                                                                                \r"
     ]
    },
    {
     "name": "stdout",
     "output_type": "stream",
     "text": [
      "+---+---+-----------------------+--------------------------+\n",
      "|id1|id2|name_jaccard_similarity|address_jaccard_similarity|\n",
      "+---+---+-----------------------+--------------------------+\n",
      "|1  |1  |1.0                    |1.0                       |\n",
      "|1  |2  |1.0                    |0.6666667                 |\n",
      "|1  |3  |0.0                    |0.42857143                |\n",
      "|1  |4  |0.0                    |0.25                      |\n",
      "|2  |1  |1.0                    |0.6666667                 |\n",
      "|2  |2  |1.0                    |1.0                       |\n",
      "|2  |3  |0.0                    |0.25                      |\n",
      "|2  |4  |0.0                    |0.42857143                |\n",
      "|3  |1  |0.0                    |0.42857143                |\n",
      "|3  |2  |0.0                    |0.25                      |\n",
      "|3  |3  |1.0                    |1.0                       |\n",
      "|3  |4  |1.0                    |0.6666667                 |\n",
      "|4  |1  |0.0                    |0.25                      |\n",
      "|4  |2  |0.0                    |0.42857143                |\n",
      "|4  |3  |1.0                    |0.6666667                 |\n",
      "|4  |4  |1.0                    |1.0                       |\n",
      "+---+---+-----------------------+--------------------------+\n",
      "\n"
     ]
    }
   ],
   "source": [
    "result_df.show(truncate=False)"
   ]
  },
  {
   "cell_type": "code",
   "execution_count": 12,
   "id": "a0204e6c-9972-468b-8ebf-782763cd89bd",
   "metadata": {},
   "outputs": [],
   "source": [
    "spark.stop()"
   ]
  }
 ],
 "metadata": {
  "kernelspec": {
   "display_name": "Python 3 (ipykernel)",
   "language": "python",
   "name": "python3"
  },
  "language_info": {
   "codemirror_mode": {
    "name": "ipython",
    "version": 3
   },
   "file_extension": ".py",
   "mimetype": "text/x-python",
   "name": "python",
   "nbconvert_exporter": "python",
   "pygments_lexer": "ipython3",
   "version": "3.11.5"
  }
 },
 "nbformat": 4,
 "nbformat_minor": 5
}
