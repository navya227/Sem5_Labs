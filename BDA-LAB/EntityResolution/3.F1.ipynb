{
 "cells": [
  {
   "cell_type": "code",
   "execution_count": 1,
   "id": "9df76f15-aa18-4a76-9b11-4b5b05992a0c",
   "metadata": {},
   "outputs": [
    {
     "name": "stderr",
     "output_type": "stream",
     "text": [
      "/usr/lib/python3/dist-packages/scipy/__init__.py:146: UserWarning: A NumPy version >=1.17.3 and <1.25.0 is required for this version of SciPy (detected version 1.26.0\n",
      "  warnings.warn(f\"A NumPy version >={np_minversion} and <{np_maxversion}\"\n"
     ]
    }
   ],
   "source": [
    "from pyspark.sql import SparkSession\n",
    "from pyspark.sql.functions import col, lower, regexp_replace, udf, array\n",
    "from pyspark.sql.types import ArrayType, StringType, FloatType, IntegerType\n",
    "from pyspark.ml.evaluation import MulticlassClassificationEvaluator"
   ]
  },
  {
   "cell_type": "code",
   "execution_count": 2,
   "id": "3e5b63b2-ba04-42e0-8700-5c98f7069ece",
   "metadata": {},
   "outputs": [
    {
     "name": "stderr",
     "output_type": "stream",
     "text": [
      "Setting default log level to \"WARN\".\n",
      "To adjust logging level use sc.setLogLevel(newLevel). For SparkR, use setLogLevel(newLevel).\n",
      "24/08/12 09:31:22 WARN NativeCodeLoader: Unable to load native-hadoop library for your platform... using builtin-java classes where applicable\n"
     ]
    }
   ],
   "source": [
    "spark = SparkSession.builder \\\n",
    "    .appName(\"Entity Resolution Evaluation\") \\\n",
    "    .getOrCreate()"
   ]
  },
  {
   "cell_type": "code",
   "execution_count": 3,
   "id": "c86f6344-6cf4-46bb-85ec-06288beb5a48",
   "metadata": {},
   "outputs": [],
   "source": [
    "ground_truth_data = [\n",
    "    (1, 2, 1),  # (id1, id2, label) where label 1 = match, 0 = no match\n",
    "    (1, 3, 0),\n",
    "    (2, 3, 1),\n",
    "    (2, 4, 0),\n",
    "    (3, 4, 1)\n",
    "]\n",
    "ground_truth_columns = [\"id1\", \"id2\", \"label\"]\n",
    "ground_truth_df = spark.createDataFrame(ground_truth_data, schema=ground_truth_columns)"
   ]
  },
  {
   "cell_type": "code",
   "execution_count": 4,
   "id": "2b35f40c-5fd2-446c-be18-614770ea14a6",
   "metadata": {},
   "outputs": [],
   "source": [
    "data = [\n",
    "    (1, \"John Smith\", \"1234 Elm St, Springfield, IL\"),\n",
    "    (2, \"john smith\", \"1234 elm street, springfield, il\"),\n",
    "    (3, \"Jane Doe\", \"5678 Oak St, Springfield, IL\"),\n",
    "    (4, \"JANE DOE\", \"5678 OAK STREET, SPRINGFIELD, IL\")\n",
    "]\n",
    "columns = [\"id\", \"name\", \"address\"]\n",
    "df = spark.createDataFrame(data, schema=columns)"
   ]
  },
  {
   "cell_type": "code",
   "execution_count": 5,
   "id": "6cb88c18-1be8-4bca-acb1-fbfb1352d3cc",
   "metadata": {},
   "outputs": [],
   "source": [
    "def preprocess(text_col):\n",
    "    return lower(regexp_replace(text_col, \"[^a-zA-Z0-9\\\\s]\", \"\"))"
   ]
  },
  {
   "cell_type": "code",
   "execution_count": 6,
   "id": "c711f668-af34-4ec2-98b3-a9730842229f",
   "metadata": {},
   "outputs": [],
   "source": [
    "def jaccard_similarity(set1, set2):\n",
    "    set1, set2 = set(set1), set(set2)\n",
    "    intersection_len = len(set1.intersection(set2))\n",
    "    union_len = len(set1.union(set2))\n",
    "    return float(intersection_len) / union_len if union_len != 0 else 0.0\n",
    "\n",
    "jaccard_udf = udf(jaccard_similarity, FloatType())"
   ]
  },
  {
   "cell_type": "code",
   "execution_count": 7,
   "id": "78e879e0-f57f-4e8d-b646-248f64fc2c87",
   "metadata": {},
   "outputs": [],
   "source": [
    "preprocessed_df = df \\\n",
    "    .withColumn(\"name_tokens\", udf(lambda x: x.split(), ArrayType(StringType()))(preprocess(col(\"name\")))) \\\n",
    "    .withColumn(\"address_tokens\", udf(lambda x: x.split(), ArrayType(StringType()))(preprocess(col(\"address\"))))\n"
   ]
  },
  {
   "cell_type": "code",
   "execution_count": 8,
   "id": "fa55f9e7-c6a6-4686-8690-e0ee281c3cd9",
   "metadata": {},
   "outputs": [],
   "source": [
    "cross_df = preprocessed_df.alias(\"df1\").crossJoin(preprocessed_df.alias(\"df2\"))"
   ]
  },
  {
   "cell_type": "code",
   "execution_count": 9,
   "id": "c165dc3b-5dca-4c62-bc47-309a60f4b226",
   "metadata": {},
   "outputs": [],
   "source": [
    "result_df = cross_df \\\n",
    "    .withColumn(\"name_jaccard_similarity\", jaccard_udf(col(\"df1.name_tokens\"), col(\"df2.name_tokens\"))) \\\n",
    "    .withColumn(\"address_jaccard_similarity\", jaccard_udf(col(\"df1.address_tokens\"), col(\"df2.address_tokens\"))) \\\n",
    "    .withColumn(\"combined_similarity\", (col(\"name_jaccard_similarity\") + col(\"address_jaccard_similarity\")) / 2.0) \\\n",
    "    .withColumn(\"prediction\", (col(\"combined_similarity\") > 0.8).cast(IntegerType())) \\\n",
    "    .select(col(\"df1.id\").alias(\"id1\"), col(\"df2.id\").alias(\"id2\"), \"prediction\")"
   ]
  },
  {
   "cell_type": "code",
   "execution_count": 10,
   "id": "7c9dedc8-1897-4a24-98a7-1907bf8618b5",
   "metadata": {},
   "outputs": [],
   "source": [
    "evaluation_df = result_df.join(ground_truth_df, on=[\"id1\", \"id2\"], how=\"left\") \\\n",
    "    .na.fill(0, subset=[\"label\"])  # Fill NaNs in label column with 0 (no match)"
   ]
  },
  {
   "cell_type": "code",
   "execution_count": 11,
   "id": "581f6938-6d25-4577-9801-c7d522eb45d4",
   "metadata": {},
   "outputs": [
    {
     "name": "stderr",
     "output_type": "stream",
     "text": [
      "24/08/12 09:33:00 WARN ExtractPythonUDFFromJoinCondition: The join condition:((cast((jaccard_similarity(name_tokens#13, name_tokens#29)#40 + jaccard_similarity(address_tokens#19, address_tokens#28)#53) as double) / 2.0) > 0.8) of the join plan contains PythonUDF only, it will be moved out and the join plan will be turned to cross join.\n",
      "24/08/12 09:33:22 WARN ExtractPythonUDFFromJoinCondition: The join condition:((cast((jaccard_similarity(name_tokens#13, name_tokens#29)#40 + jaccard_similarity(address_tokens#19, address_tokens#28)#53) as double) / 2.0) <= 0.8) of the join plan contains PythonUDF only, it will be moved out and the join plan will be turned to cross join.\n",
      "24/08/12 09:33:43 WARN ExtractPythonUDFFromJoinCondition: The join condition:((cast((jaccard_similarity(name_tokens#13, name_tokens#29)#40 + jaccard_similarity(address_tokens#19, address_tokens#28)#53) as double) / 2.0) > 0.8) of the join plan contains PythonUDF only, it will be moved out and the join plan will be turned to cross join.\n",
      "24/08/12 09:34:04 WARN ExtractPythonUDFFromJoinCondition: The join condition:((cast((jaccard_similarity(name_tokens#13, name_tokens#29)#40 + jaccard_similarity(address_tokens#19, address_tokens#28)#53) as double) / 2.0) <= 0.8) of the join plan contains PythonUDF only, it will be moved out and the join plan will be turned to cross join.\n",
      "                                                                                \r"
     ]
    }
   ],
   "source": [
    "TP = evaluation_df.filter((col(\"prediction\") == 1) & (col(\"label\") == 1)).count()\n",
    "TN = evaluation_df.filter((col(\"prediction\") == 0) & (col(\"label\") == 0)).count()\n",
    "FP = evaluation_df.filter((col(\"prediction\") == 1) & (col(\"label\") == 0)).count()\n",
    "FN = evaluation_df.filter((col(\"prediction\") == 0) & (col(\"label\") == 1)).count()\n"
   ]
  },
  {
   "cell_type": "code",
   "execution_count": 12,
   "id": "6d9ecf9c-8151-4b12-97cc-6d0bb83dd4ee",
   "metadata": {},
   "outputs": [],
   "source": [
    "precision = TP / (TP + FP) if (TP + FP) > 0 else 0\n",
    "recall = TP / (TP + FN) if (TP + FN) > 0 else 0\n",
    "f1_score = (2 * precision * recall) / (precision + recall) if (precision + recall) > 0 else 0\n"
   ]
  },
  {
   "cell_type": "code",
   "execution_count": 13,
   "id": "56a6b9a0-6c13-4550-9a18-2973ef3308bf",
   "metadata": {},
   "outputs": [
    {
     "name": "stdout",
     "output_type": "stream",
     "text": [
      "Precision: 0.25\n",
      "Recall: 0.67\n",
      "F1 Score: 0.36\n"
     ]
    }
   ],
   "source": [
    "print(f\"Precision: {precision:.2f}\")\n",
    "print(f\"Recall: {recall:.2f}\")\n",
    "print(f\"F1 Score: {f1_score:.2f}\")\n"
   ]
  },
  {
   "cell_type": "code",
   "execution_count": 14,
   "id": "a1dc5f40-f363-4432-beed-9857afc5fb1a",
   "metadata": {},
   "outputs": [],
   "source": [
    "spark.stop()"
   ]
  }
 ],
 "metadata": {
  "kernelspec": {
   "display_name": "Python 3 (ipykernel)",
   "language": "python",
   "name": "python3"
  },
  "language_info": {
   "codemirror_mode": {
    "name": "ipython",
    "version": 3
   },
   "file_extension": ".py",
   "mimetype": "text/x-python",
   "name": "python",
   "nbconvert_exporter": "python",
   "pygments_lexer": "ipython3",
   "version": "3.11.5"
  }
 },
 "nbformat": 4,
 "nbformat_minor": 5
}
