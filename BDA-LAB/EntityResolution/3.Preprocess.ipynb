{
 "cells": [
  {
   "cell_type": "code",
   "execution_count": 1,
   "id": "fb5e6bb0-5170-425f-9252-7b2ec40b0b00",
   "metadata": {},
   "outputs": [],
   "source": [
    "from pyspark.sql import SparkSession\n",
    "from pyspark.sql.functions import col, lower, regexp_replace, udf\n",
    "from pyspark.sql.types import ArrayType, StringType"
   ]
  },
  {
   "cell_type": "code",
   "execution_count": 2,
   "id": "1042887e-c743-46d0-9be6-f7a366cade60",
   "metadata": {},
   "outputs": [
    {
     "name": "stderr",
     "output_type": "stream",
     "text": [
      "Setting default log level to \"WARN\".\n",
      "To adjust logging level use sc.setLogLevel(newLevel). For SparkR, use setLogLevel(newLevel).\n",
      "24/08/12 09:43:42 WARN NativeCodeLoader: Unable to load native-hadoop library for your platform... using builtin-java classes where applicable\n"
     ]
    }
   ],
   "source": [
    "spark = SparkSession.builder \\\n",
    "    .appName(\"Data Preprocessing for Entity Resolution\") \\\n",
    "    .getOrCreate()"
   ]
  },
  {
   "cell_type": "code",
   "execution_count": 3,
   "id": "4fcb031e-45fd-4274-b076-d6246b9ff0e7",
   "metadata": {},
   "outputs": [],
   "source": [
    "data = [\n",
    "    (1, \"John Smith\", \"1234 Elm St, Springfield, IL\"),\n",
    "    (2, \"john smith\", \"1234 elm street, springfield, il\"),\n",
    "    (3, \"Jane Doe\", \"5678 Oak St, Springfield, IL\"),\n",
    "    (4, \"JANE DOE\", \"5678 OAK STREET, SPRINGFIELD, IL\")\n",
    "]\n",
    "\n",
    "columns = [\"id\", \"name\", \"address\"]\n",
    "\n",
    "df = spark.createDataFrame(data, schema=columns)"
   ]
  },
  {
   "cell_type": "code",
   "execution_count": 4,
   "id": "72722f12-df34-4715-93d6-0c08c62552ae",
   "metadata": {},
   "outputs": [],
   "source": [
    "def tokenize(text):\n",
    "    if text:\n",
    "        return text.split()\n",
    "    return []\n",
    "\n",
    "tokenize_udf = udf(tokenize, ArrayType(StringType()))"
   ]
  },
  {
   "cell_type": "code",
   "execution_count": 5,
   "id": "1205673c-93c9-496e-84d7-09facd7c769a",
   "metadata": {},
   "outputs": [],
   "source": [
    "def preprocess_df(df):\n",
    "    df = df.withColumn(\"name\", lower(col(\"name\")))\n",
    "    df = df.withColumn(\"address\", lower(col(\"address\")))\n",
    "\n",
    "    df = df.withColumn(\"name\", regexp_replace(col(\"name\"), \"[^a-zA-Z0-9\\\\s]\", \"\"))\n",
    "    df = df.withColumn(\"address\", regexp_replace(col(\"address\"), \"[^a-zA-Z0-9\\\\s]\", \"\"))\n",
    "\n",
    "    df = df.withColumn(\"name_tokens\", tokenize_udf(col(\"name\")))\n",
    "    df = df.withColumn(\"address_tokens\", tokenize_udf(col(\"address\")))\n",
    "\n",
    "    return df"
   ]
  },
  {
   "cell_type": "code",
   "execution_count": 6,
   "id": "164b4037-1600-4119-8729-133462c03e4d",
   "metadata": {},
   "outputs": [
    {
     "name": "stderr",
     "output_type": "stream",
     "text": [
      "                                                                                \r"
     ]
    },
    {
     "name": "stdout",
     "output_type": "stream",
     "text": [
      "+---+----------+------------------------------+-------------+------------------------------------+\n",
      "|id |name      |address                       |name_tokens  |address_tokens                      |\n",
      "+---+----------+------------------------------+-------------+------------------------------------+\n",
      "|1  |john smith|1234 elm st springfield il    |[john, smith]|[1234, elm, st, springfield, il]    |\n",
      "|2  |john smith|1234 elm street springfield il|[john, smith]|[1234, elm, street, springfield, il]|\n",
      "|3  |jane doe  |5678 oak st springfield il    |[jane, doe]  |[5678, oak, st, springfield, il]    |\n",
      "|4  |jane doe  |5678 oak street springfield il|[jane, doe]  |[5678, oak, street, springfield, il]|\n",
      "+---+----------+------------------------------+-------------+------------------------------------+\n",
      "\n"
     ]
    }
   ],
   "source": [
    "preprocessed_df = preprocess_df(df)\n",
    "\n",
    "preprocessed_df.show(truncate=False)"
   ]
  },
  {
   "cell_type": "code",
   "execution_count": 7,
   "id": "ab5e1844-1ce4-4102-82d8-ac78f1bdd96f",
   "metadata": {},
   "outputs": [],
   "source": [
    "spark.stop()"
   ]
  }
 ],
 "metadata": {
  "kernelspec": {
   "display_name": "Python 3 (ipykernel)",
   "language": "python",
   "name": "python3"
  },
  "language_info": {
   "codemirror_mode": {
    "name": "ipython",
    "version": 3
   },
   "file_extension": ".py",
   "mimetype": "text/x-python",
   "name": "python",
   "nbconvert_exporter": "python",
   "pygments_lexer": "ipython3",
   "version": "3.11.5"
  }
 },
 "nbformat": 4,
 "nbformat_minor": 5
}
